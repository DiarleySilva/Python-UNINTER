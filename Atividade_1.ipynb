{
  "nbformat": 4,
  "nbformat_minor": 0,
  "metadata": {
    "colab": {
      "provenance": [],
      "authorship_tag": "ABX9TyNKz+PCfdGjUagg5I2SMUsW",
      "include_colab_link": true
    },
    "kernelspec": {
      "name": "python3",
      "display_name": "Python 3"
    },
    "language_info": {
      "name": "python"
    }
  },
  "cells": [
    {
      "cell_type": "markdown",
      "metadata": {
        "id": "view-in-github",
        "colab_type": "text"
      },
      "source": [
        "<a href=\"https://colab.research.google.com/github/DiarleySilva/Python-Uninter/blob/main/Atividade_1.ipynb\" target=\"_parent\"><img src=\"https://colab.research.google.com/assets/colab-badge.svg\" alt=\"Open In Colab\"/></a>"
      ]
    },
    {
      "cell_type": "code",
      "execution_count": null,
      "metadata": {
        "id": "PPsow0eRerqy"
      },
      "outputs": [],
      "source": [
        "print('Olá, seja bem-vindo ao atacadão do Diarley Silva Santos (RU 4095617).\\n')\n",
        "\n",
        "# VARIÁVEIS\n",
        "# Valor unitário do produto\n",
        "valorproduto = float(input('Digite o valor do produto (lembre-se de usar ponto ao invés da vírgula): '))\n",
        "# Quantidade do produto\n",
        "quantidade = int(input('Digite a quantidade que deseja: '))\n",
        "# Valor sem desconto\n",
        "semDesconto = valorproduto * quantidade # O valor sem desconto é calculado multiplicando o valor do produto vezes a quantidade\n",
        "\n",
        "# CÁLCULOS\n",
        "# Desconto de 0% na unidade\n",
        "if quantidade <= 9: # Se a quantidade for menor que 9, terá 0% de desconto na unidade\n",
        "  valorfinal = semDesconto * 0.0 # O valor com desconto é calculado multiplicando o valor sem desconto vezes 0.0 (0%)\n",
        "  print('O valor total sem desconto é de: R${:.2f}.'.format(semDesconto)) # Print do valor sem desconto\n",
        "  print('O valor total com desconto é de: R${:.2F} (desconto de 0%).'.format(semDesconto - valorfinal)) # Print do valor com desconto subtraindo o valor sem desconto menos o valor com desconto\n",
        "\n",
        "# Desconto de 5% na unidade\n",
        "elif quantidade >= 10 and quantidade <= 99: # Se a quantidade for entre 10 e 99, terá 5% de desconto na unidade\n",
        "  valorfinal = semDesconto * 0.05 # O valor com desconto é calculado multiplicando o valor sem desconto vezes 0.05 (5%)\n",
        "  print('O valor total sem desconto é de: R${:.2f}.'.format(semDesconto)) # Print do valor sem desconto\n",
        "  print('O valor total com desconto é de: R${:.2F} (desconto de 5%).'.format(semDesconto - valorfinal)) # Print do valor com desconto subtraindo o valor sem desconto menos o valor com desconto\n",
        "\n",
        "# Desconto de 10% na unidade\n",
        "elif quantidade >= 100 and quantidade <= 999: # Se a quantidade for entre 100 e 999, terá 10% de desconto na unidade\n",
        "  valorfinal = semDesconto * 0.10 # O valor com desconto é calculado multiplicando o valor sem desconto vezes 0.10 (10%)\n",
        "  print('O valor total sem desconto é de: R${:.2f}.'.format(semDesconto)) # Print do valor sem desconto\n",
        "  print('O valor total com desconto é de: R${:.2F} (desconto de 10%).'.format(semDesconto - valorfinal)) # Print do valor com desconto subtraindo o valor sem desconto menos o valor com desconto\n",
        "\n",
        "# Desconto de 15% na unidade\n",
        "elif quantidade >= 1000 : # Se a quantidade for maior que 1000, terá 15% de desconto na unidade\n",
        "  valorfinal = semDesconto * 0.15 # O valor com desconto é calculado multiplicando o valor sem desconto vezes 0.15 (15%)\n",
        "  print('O valor total sem desconto é de: R${:.2f}.'.format(semDesconto)) # Print do valor sem desconto\n",
        "  print('O valor total com desconto é de: R${:.2F} (desconto de 15%).'.format(semDesconto - valorfinal)) # Print do valor com desconto subtraindo o valor sem desconto menos o valor com desconto\n",
        "\n",
        "# Comando inválido\n",
        "else:\n",
        "  print('Operação inválida!') # Print do comando inválido digitado pelo usuário"
      ]
    }
  ]
}