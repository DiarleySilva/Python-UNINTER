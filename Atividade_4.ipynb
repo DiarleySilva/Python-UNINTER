{
  "nbformat": 4,
  "nbformat_minor": 0,
  "metadata": {
    "colab": {
      "provenance": [],
      "authorship_tag": "ABX9TyN2o6k8MZPe0dv5Knz6soPH",
      "include_colab_link": true
    },
    "kernelspec": {
      "name": "python3",
      "display_name": "Python 3"
    },
    "language_info": {
      "name": "python"
    }
  },
  "cells": [
    {
      "cell_type": "markdown",
      "metadata": {
        "id": "view-in-github",
        "colab_type": "text"
      },
      "source": [
        "<a href=\"https://colab.research.google.com/github/DiarleySilva/Python-Uninter/blob/main/Atividade_4.ipynb\" target=\"_parent\"><img src=\"https://colab.research.google.com/assets/colab-badge.svg\" alt=\"Open In Colab\"/></a>"
      ]
    },
    {
      "cell_type": "code",
      "execution_count": null,
      "metadata": {
        "id": "Pld08PrPapUq"
      },
      "outputs": [],
      "source": [
        "def cadastrarPeca(codigoPeca): # Função de cadastrar peça\n",
        "\n",
        "  print(f'Código gerado: {codigoPeca}') # Print do código gerado para cada peça\n",
        "  \n",
        "  nome = input('Digite o nome da peça: ') # Nome da peça a ser cadastrada\n",
        "  fabricante = input('Digite a fabricante da peça: ') # Fabricante da peça a ser cadastrada\n",
        "  valor = input('Digite o valor da peça: ') # Valor da peça a ser cadastrada\n",
        "\n",
        "  estoque = {'Código:' : codigoPeca, 'Peça:' : nome, 'Fabricante:' : fabricante, 'Valor:' : valor} # Dicionário das peças cadastradas\n",
        "  pecas.append(estoque.copy()) # Cria uma cópia do dicionário\n",
        "\n",
        "  print('\\nPeça cadastrada com sucesso!') # Print quando a peça é cadastrada\n",
        "\n",
        "def consultarPeca(): # Função de consultar peça\n",
        " \n",
        " while True: # Laço de repetição das opções de consulta\n",
        "  \n",
        "  # Print das opções de consulta \n",
        "  print('1 - Consultar todas as peças')\n",
        "  print('2 - Consultar peças por código')\n",
        "  print('3 - Consultar peças por fabricante')\n",
        "  print('4 - Retornar')\n",
        "  \n",
        "  opcao = input('Qual opção deseja: ') # Variável da opção de consulta escolhida\n",
        "  \n",
        "  if opcao == '1': # Se a opção for 1, será consultada todas as peças\n",
        "    print('Consultando todas as peças!') # Mensagem indicando que irá consultar todas as peças\n",
        "    for peca in pecas: # Realiza uma varredura no dicionário\n",
        "      for chave, valor in peca.items(): # Captura os itens dentro do dicionário\n",
        "        print(f'{chave} : {valor}') # Print da chave e do valor do dicionário\n",
        "  \n",
        "  elif opcao == '2': # Se a opção for 2, será consultada as peças por código\n",
        "    print('Consultando peças por código...') # Mensagem indicando que irá consultar uma peça por código\n",
        "    codigoconsulta = int(input('Digite o código para ser consultado: ')) # Código da peça a ser consultada\n",
        "    for peca in pecas: # Realiza uma varredura no dicionário\n",
        "      if peca['Código:'] == codigoconsulta: # Verifica se o código é igual ao do dicionário\n",
        "        for chave, valor in peca.items(): # Captura os itens dentro do dicionário\n",
        "          print(f'{chave} : {valor}') # Print da chave e do valor do dicionário\n",
        "        \n",
        "  elif opcao == '3': # Se a opção for 3, será consultada as peças por fabricante\n",
        "    print('Consultando peças por fabricante...') # Mensagem indicando que irá consultar uma peça por fabricante\n",
        "    fabricante = input('Digite o fabricante para ser consultado: ') # Fabricante da peça a ser consultada\n",
        "    for peca in pecas: # Realiza uma varredura no dicionário\n",
        "      if peca['Fabricante:'] == fabricante: # Verifica se o fabricante é igual ao do dicionário\n",
        "        for chave, valor in peca.items(): # Captura os itens dentro do dicionário\n",
        "          print(f'{chave} : {valor}') # Print da chave e do valor do dicionário\n",
        "  \n",
        "  elif opcao == '4': # Se a opção for 4, será retornado ao menu principal\n",
        "    return\n",
        "  \n",
        "  else: # Se a opção for inválida, voltará para as opções\n",
        "    print('Opção inválida!')\n",
        "    continue\n",
        "\n",
        "def removerPeca(): # Função de remover peça\n",
        "  print('Removendo peça...') # Mensagem indicando que irá remover uma peça\n",
        "  remover = int(input('Digite o código da peça para ser removido: ')) # Variável do código que irá ser removido\n",
        "  for peca in pecas: # Realiza uma varredura no dicionário\n",
        "    if peca['Código:'] == remover: # Verifica se o código é igual ao do dicionário\n",
        "      pecas.remove(peca) # Se for igual, a peça será removida do dicionário\n",
        "      print('Peça removida com sucesso!') # Print quando a peça é removida\n",
        "\n",
        "# Programa principal\n",
        "print('Olá, seja bem-vindo a loja de peças do Diarley Silva Santos (RU 4095617).\\n')\n",
        "\n",
        "pecas = [] # Lista para ser adicionada o dicionário\n",
        "codigo = 0 # Contador para cada peça cadastrada\n",
        "while True: # Laço de repetição do menu principal\n",
        "  # Print do menu principal\n",
        "  print('-' * 20)\n",
        "  print('1 - Cadastrar peças')\n",
        "  print('2 - Consultar peças')\n",
        "  print('3 - Remover peças')\n",
        "  print('4 - Sair')\n",
        "  print('-' * 20)\n",
        "\n",
        "  opcao = input('Qual opção deseja realizar: ') # Variável da opção escolhida no menu principal\n",
        "\n",
        "  if opcao == '1': # Se a opção for 1, irá cadastrar uma peça\n",
        "    codigo = codigo + 1 # Atribuindo mais um valor no contador\n",
        "    cadastrarPeca(codigo) # Chamando a função de cadastro\n",
        "  elif opcao == '2': # Se a opção for 2, irá consultar uma peça\n",
        "    consultarPeca() # Chamando a função de consulta\n",
        "  elif opcao == '3': # Se a opção for 3, irá remover uma peça\n",
        "    removerPeca() # Chamando a função de remover\n",
        "  elif opcao == '4': # Se a opção for 4, o programa será encerrado\n",
        "    break"
      ]
    }
  ]
}