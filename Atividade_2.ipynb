{
  "nbformat": 4,
  "nbformat_minor": 0,
  "metadata": {
    "colab": {
      "provenance": [],
      "authorship_tag": "ABX9TyNah4XDZU05IF3P+kr1C4Hg",
      "include_colab_link": true
    },
    "kernelspec": {
      "name": "python3",
      "display_name": "Python 3"
    },
    "language_info": {
      "name": "python"
    }
  },
  "cells": [
    {
      "cell_type": "markdown",
      "metadata": {
        "id": "view-in-github",
        "colab_type": "text"
      },
      "source": [
        "<a href=\"https://colab.research.google.com/github/DiarleySilva/Python-Uninter/blob/main/Atividade_2.ipynb\" target=\"_parent\"><img src=\"https://colab.research.google.com/assets/colab-badge.svg\" alt=\"Open In Colab\"/></a>"
      ]
    },
    {
      "cell_type": "code",
      "execution_count": null,
      "metadata": {
        "id": "67XsXiGPI7nV"
      },
      "outputs": [],
      "source": [
        "print('Olá, seja bem-vindo à lanchonete do Diarley Silva Santos (RU 4095617).\\n') # Identificador pessoal\n",
        "\n",
        "# Print do cardápio\n",
        "print('------------------CARDÁPIO---------------------')\n",
        "print('| Código |      Descrição         |   Valor  |')\n",
        "print('|  100   |    Cachorro quente     |  R$9,00  |')\n",
        "print('|  101   | Cachorro quente duplo  |  R$11,00 |')\n",
        "print('|  102   |        X-Egg           |  R$12,00 |')\n",
        "print('|  103   |        X-Salada        |  R$13,00 |')\n",
        "print('|  104   |        X-Bacon         |  R$14,00 |')\n",
        "print('|  105   |        X-Tudo          |  R$17,00 |')\n",
        "print('|  200   |   Refrigerante lata    |  R$5,00  |')\n",
        "print('|  201   |      Chá Gelado        |  R$4,00  |')\n",
        "print('-----------------------------------------------')\n",
        "\n",
        "contador = 0 # Contador de pedidos\n",
        "\n",
        "while True: # Laço de repetição do menu\n",
        "\n",
        "  codigo = int(input('Digite o código do produto desejado: ')) # Código do produto escolhido\n",
        "\n",
        "  if codigo == 100: # Se o código for 100, será pedido um cachorro quente de 9 reais\n",
        "    print('Você pediu um Cachorro quente no valor de R$9,00.') # Print do pedido escolhido\n",
        "    contador = contador + 9 # Contador do pedido mais o valor do produto\n",
        "    \n",
        "  elif codigo == 101: # Se o código for 101, será pedido um cachorro quente duplo de 11 reais\n",
        "    print('Você pediu um Cachorro quente duplo no valor de R$11,00.') # Print do pedido escolhido\n",
        "    contador = contador + 11 # Contador do pedido mais o valor do produto\n",
        "    \n",
        "  elif codigo == 102: # Se o código for 102, será pedido um X-Egg de 12 reais\n",
        "    print('Você pediu um X-Egg no valor de R$12,00.') # Print do pedido escolhido\n",
        "    contador = contador + 12 # Contador do pedido mais o valor do produto\n",
        "  \n",
        "  elif codigo == 103: # Se o código for 103, será pedido um X-Salada de 13 reais\n",
        "    print('Você pediu um X-Salada no valor de R$13,00.') # Print do pedido escolhido\n",
        "    contador = contador + 13 # Contador do pedido mais o valor do produto\n",
        "  \n",
        "  elif codigo == 104: # Se o código for 104, será pedido um X-Bacon de 14 reais\n",
        "    print('Você pediu um X-Bacon no valor de R$14,00.') # Print do pedido escolhido\n",
        "    contador = contador + 14 # Contador do pedido mais o valor do produto\n",
        "  \n",
        "  elif codigo == 105: # Se o código for 105, será pedido um X-Tudo de 17 reais\n",
        "    print('Você pediu um X-Tudo no valor de R$17,00.') # Print do pedido escolhido\n",
        "    contador = contador + 17 # Contador do pedido mais o valor do produto\n",
        "    \n",
        "  elif codigo == 200: # Se o código for 200, será pedido uma lata de refrigerante de 5 reais\n",
        "    print('Você pediu um Refrigerante lata no valor de R$5,00.') # Print do pedido escolhido\n",
        "    contador = contador + 5 # Contador do pedido mais o valor do produto\n",
        "    \n",
        "  elif codigo == 201: # Se o código for 201, será pedido um chá gelado de 4 reais\n",
        "    print('Você pediu um Chá gelado no valor de R$4,00.') # Print do pedido escolhido\n",
        "    contador = contador + 4 # Contador do pedido mais o valor do produto\n",
        "     \n",
        "  else: # Se o código for inválido, retornará ao pedido novamente\n",
        "    print('Opção inválida. Digite o código novamente.') # Mensagem de opção inválida\n",
        "    continue\n",
        "\n",
        "  opcao = input('Deseja pedir mais alguma coisa?\\nDigite 1 para \"Sim\" e 0 para \"Não\": ') # Opção se deseja pedir novamente\n",
        "\n",
        "  if opcao == '1': # Se a opção for 1, será feito outro pedido\n",
        "    continue\n",
        "  \n",
        "  elif opcao == '0': # Se a opção for 0, o programa será encerrado\n",
        "    break\n",
        "\n",
        "print(f'O total a pagar será de R${contador}.') # Print do total a pagar somando todos os pedidos\n",
        "print('Obrigado! Volte sempre!') # Mensagem final"
      ]
    }
  ]
}